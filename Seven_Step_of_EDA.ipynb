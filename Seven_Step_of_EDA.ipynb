{
 "cells": [
  {
   "cell_type": "markdown",
   "id": "8593dfbb-1d48-4d0c-ad41-fd3f51a52f9d",
   "metadata": {},
   "source": [
    "## 🧪 7 Key Steps of Exploratory Data Analysis (EDA)\n",
    "\n",
    "1. **Understand the Data**  \n",
    "   - Load the dataset and explore its structure.  \n",
    "   `df.head()`, `df.info()`, `df.shape`, `df.columns`\n",
    "\n",
    "2. **Handle Missing Values**  \n",
    "   - Identify and handle null values.  \n",
    "   `df.isnull().sum()`, `df.dropna()`, or `df.fillna()`\n",
    "\n",
    "3. **Univariate Analysis**  \n",
    "   - Study individual variables using stats and visualizations.  \n",
    "   `df['temprature'].describe()`, `sns.histplot(df['humidity'])`\n",
    "\n",
    "4. **Bivariate/Multivariate Analysis**  \n",
    "   - Analyze relationships between variables.  \n",
    "   `sns.scatterplot(x='temp_max', y='humidity', data=df)`\n",
    "\n",
    "5. **Handle Outliers**  \n",
    "   - Detect and treat outliers using visual tools.  \n",
    "   `sns.boxplot(x=df['wind_speed'])`\n",
    "\n",
    "6. **Feature Engineering**  \n",
    "   - Create new columns from existing ones to add insights.  \n",
    "   `df['Temp_Range'] = df['temp_max'] - df['temp_min']`\n",
    "\n",
    "7. **Correlation Analysis**  \n",
    "   - Measure the strength between numerical features.  \n",
    "   `sns.heatmap(df.corr(), annot=True, cmap='coolwarm')`\n",
    "\n",
    "---\n",
    "✅ Use these steps to clean, analyze, and prepare your data for better insights and modeling."
   ]
  }
 ],
 "metadata": {
  "kernelspec": {
   "display_name": "Python 3 (ipykernel)",
   "language": "python",
   "name": "python3"
  },
  "language_info": {
   "codemirror_mode": {
    "name": "ipython",
    "version": 3
   },
   "file_extension": ".py",
   "mimetype": "text/x-python",
   "name": "python",
   "nbconvert_exporter": "python",
   "pygments_lexer": "ipython3",
   "version": "3.13.5"
  }
 },
 "nbformat": 4,
 "nbformat_minor": 5
}
