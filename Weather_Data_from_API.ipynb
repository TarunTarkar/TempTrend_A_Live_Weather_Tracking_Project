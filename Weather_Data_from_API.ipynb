{
 "cells": [
  {
   "cell_type": "code",
   "execution_count": 12,
   "id": "e5fef2b7-8719-4f7e-a213-1158d4b13657",
   "metadata": {},
   "outputs": [],
   "source": [
    "import numpy as pd\n",
    "import pandas as pd"
   ]
  },
  {
   "cell_type": "code",
   "execution_count": 13,
   "id": "818e1656-5c04-4fe7-b559-2c4b38b3a67c",
   "metadata": {},
   "outputs": [
    {
     "name": "stdout",
     "output_type": "stream",
     "text": [
      "{'coord': {'lon': 77.33, 'lat': 28.58}, 'weather': [{'id': 804, 'main': 'Clouds', 'description': 'overcast clouds', 'icon': '04d'}], 'base': 'stations', 'main': {'temp': 301.81, 'feels_like': 306.77, 'temp_min': 301.81, 'temp_max': 301.81, 'pressure': 996, 'humidity': 79, 'sea_level': 996, 'grnd_level': 970}, 'visibility': 10000, 'wind': {'speed': 4.46, 'deg': 234, 'gust': 6.5}, 'clouds': {'all': 98}, 'dt': 1753263286, 'sys': {'country': 'IN', 'sunrise': 1753229215, 'sunset': 1753278423}, 'timezone': 19800, 'id': 7279746, 'name': 'Noida', 'cod': 200}\n"
     ]
    }
   ],
   "source": [
    "import requests\n",
    "\n",
    "api_key = \"b47d7e517802e507edc4481bf517e36a\"\n",
    "city = \"Noida\"\n",
    "url = f\"http://api.openweathermap.org/data/2.5/weather?q={city}&appid={api_key}\"\n",
    "\n",
    "response = requests.get(url)\n",
    "data = response.json()\n",
    "print(data)"
   ]
  },
  {
   "cell_type": "code",
   "execution_count": 14,
   "id": "530030b1-ca8b-4792-a569-b7142eee100d",
   "metadata": {},
   "outputs": [],
   "source": [
    "df=pd.json_normalize(data)"
   ]
  },
  {
   "cell_type": "code",
   "execution_count": 15,
   "id": "6a8058a5-7343-4957-8f9c-3e531cfbf466",
   "metadata": {},
   "outputs": [
    {
     "data": {
      "text/plain": [
       "Index(['weather', 'base', 'visibility', 'dt', 'timezone', 'id', 'name', 'cod',\n",
       "       'coord.lon', 'coord.lat', 'main.temp', 'main.feels_like',\n",
       "       'main.temp_min', 'main.temp_max', 'main.pressure', 'main.humidity',\n",
       "       'main.sea_level', 'main.grnd_level', 'wind.speed', 'wind.deg',\n",
       "       'wind.gust', 'clouds.all', 'sys.country', 'sys.sunrise', 'sys.sunset'],\n",
       "      dtype='object')"
      ]
     },
     "execution_count": 15,
     "metadata": {},
     "output_type": "execute_result"
    }
   ],
   "source": [
    "df.columns"
   ]
  },
  {
   "cell_type": "code",
   "execution_count": 16,
   "id": "b80e5a6b-65b1-421f-96c8-667d92bcc603",
   "metadata": {},
   "outputs": [],
   "source": [
    "# api_key = \"b47d7e517802e507edc4481bf517e36a\"\n",
    "# cities=['Mumbai','Delhi','Chennai','Bangalore','Kolkata','Pune','Hyderabad','Ahmedabad','Jaipur','Lucknow']\n",
    "\n",
    "# data_list=[]\n",
    "\n",
    "# for city in cities:\n",
    "#   url = f\"http://api.openweathermap.org/data/2.5/weather?q={city}&appid={api_key}&units=metric\"\n",
    "#   response = requests.get(url)\n",
    "#   if response.status_code==200:\n",
    "#     data=response.json()\n",
    "#     data_dict= {\n",
    "#         \"City\":city,\n",
    "#         \"Temprature\":data['main']['temp'],\n",
    "#         \"Feels_Like\":data['main']['feels_like'],\n",
    "#         \"Temp_Min\":data['main']['temp_min'],\n",
    "#         \"Temp_Max\":data['main']['temp_max']\n",
    "#         }\n",
    "#     data_list.append(data_dict)\n",
    "#   else:\n",
    "#     print('failed')\n",
    "\n",
    "# df=pd.DataFrame(data_list)\n"
   ]
  },
  {
   "cell_type": "code",
   "execution_count": 7,
   "id": "759b6fca-2679-40b6-96e2-e939d9636bf5",
   "metadata": {},
   "outputs": [
    {
     "data": {
      "text/html": [
       "<div>\n",
       "<style scoped>\n",
       "    .dataframe tbody tr th:only-of-type {\n",
       "        vertical-align: middle;\n",
       "    }\n",
       "\n",
       "    .dataframe tbody tr th {\n",
       "        vertical-align: top;\n",
       "    }\n",
       "\n",
       "    .dataframe thead th {\n",
       "        text-align: right;\n",
       "    }\n",
       "</style>\n",
       "<table border=\"1\" class=\"dataframe\">\n",
       "  <thead>\n",
       "    <tr style=\"text-align: right;\">\n",
       "      <th></th>\n",
       "      <th>weather</th>\n",
       "      <th>base</th>\n",
       "      <th>visibility</th>\n",
       "      <th>dt</th>\n",
       "      <th>timezone</th>\n",
       "      <th>id</th>\n",
       "      <th>name</th>\n",
       "      <th>cod</th>\n",
       "      <th>coord.lon</th>\n",
       "      <th>coord.lat</th>\n",
       "      <th>...</th>\n",
       "      <th>main.humidity</th>\n",
       "      <th>main.sea_level</th>\n",
       "      <th>main.grnd_level</th>\n",
       "      <th>wind.speed</th>\n",
       "      <th>wind.deg</th>\n",
       "      <th>wind.gust</th>\n",
       "      <th>clouds.all</th>\n",
       "      <th>sys.country</th>\n",
       "      <th>sys.sunrise</th>\n",
       "      <th>sys.sunset</th>\n",
       "    </tr>\n",
       "  </thead>\n",
       "  <tbody>\n",
       "    <tr>\n",
       "      <th>0</th>\n",
       "      <td>[{'id': 804, 'main': 'Clouds', 'description': ...</td>\n",
       "      <td>stations</td>\n",
       "      <td>10000</td>\n",
       "      <td>1753258490</td>\n",
       "      <td>19800</td>\n",
       "      <td>7279746</td>\n",
       "      <td>Noida</td>\n",
       "      <td>200</td>\n",
       "      <td>77.33</td>\n",
       "      <td>28.58</td>\n",
       "      <td>...</td>\n",
       "      <td>82</td>\n",
       "      <td>997</td>\n",
       "      <td>971</td>\n",
       "      <td>4.48</td>\n",
       "      <td>224</td>\n",
       "      <td>5.83</td>\n",
       "      <td>95</td>\n",
       "      <td>IN</td>\n",
       "      <td>1753229215</td>\n",
       "      <td>1753278423</td>\n",
       "    </tr>\n",
       "  </tbody>\n",
       "</table>\n",
       "<p>1 rows × 25 columns</p>\n",
       "</div>"
      ],
      "text/plain": [
       "                                             weather      base  visibility  \\\n",
       "0  [{'id': 804, 'main': 'Clouds', 'description': ...  stations       10000   \n",
       "\n",
       "           dt  timezone       id   name  cod  coord.lon  coord.lat  ...  \\\n",
       "0  1753258490     19800  7279746  Noida  200      77.33      28.58  ...   \n",
       "\n",
       "   main.humidity  main.sea_level  main.grnd_level  wind.speed  wind.deg  \\\n",
       "0             82             997              971        4.48       224   \n",
       "\n",
       "   wind.gust  clouds.all  sys.country  sys.sunrise  sys.sunset  \n",
       "0       5.83          95           IN   1753229215  1753278423  \n",
       "\n",
       "[1 rows x 25 columns]"
      ]
     },
     "execution_count": 7,
     "metadata": {},
     "output_type": "execute_result"
    }
   ],
   "source": [
    "df.head()"
   ]
  },
  {
   "cell_type": "code",
   "execution_count": 17,
   "id": "09a04151-c111-48e6-86cb-fc7a6bb4ec8e",
   "metadata": {},
   "outputs": [],
   "source": [
    "api_key = \"b47d7e517802e507edc4481bf517e36a\"\n",
    "cities=['Mumbai','Delhi','Chennai','Bangalore','Kolkata','Pune','Hyderabad','Ahmedabad','Jaipur','Lucknow','Noida']\n",
    "\n",
    "\n",
    "# create a function\n",
    "def extract_weather_data(city,data):\n",
    "  return {\n",
    "      \"City\":city,\n",
    "      \"Weather_main\":data['weather'][0]['main'],\n",
    "      \"Weather_description\":data['weather'][0]['description'],\n",
    "      \"Temprature\":data['main']['temp'],\n",
    "      \"Feels_Like\":data['main']['feels_like'],\n",
    "      \"Temp_Min\":data['main']['temp_min'],\n",
    "      \"Temp_Max\":data['main']['temp_max'],\n",
    "      \"Pressure\":data['main']['pressure'],\n",
    "      \"Humidity\":data['main']['humidity'],\n",
    "      \"Visibility\":data.get('visibility',None),\n",
    "      \"Wind_Speed\":data['wind']['speed'],\n",
    "      \"Timestamp\":data['dt'],\n",
    "      \"Country\":data['sys']['country'],\n",
    "      \"Sunset\":data['sys']['sunset'],\n",
    "      \"Sunrise\":data['sys']['sunrise']\n",
    "\n",
    "  }\n",
    "\n",
    "weather_data=[]\n",
    "for i in range(100):\n",
    "  for city in cities:\n",
    "    url = f\"http://api.openweathermap.org/data/2.5/weather?q={city}&appid={api_key}&units=metric\"\n",
    "    response=requests.get(url)\n",
    "    if response.status_code==200:\n",
    "      data=response.json()\n",
    "      row=extract_weather_data(city,data)\n",
    "      weather_data.append(row)\n",
    "\n",
    "\n",
    "df=pd.DataFrame(weather_data)\n"
   ]
  },
  {
   "cell_type": "code",
   "execution_count": 18,
   "id": "0ba8f43e-92c3-48fa-8a55-402875d1a498",
   "metadata": {},
   "outputs": [
    {
     "data": {
      "text/html": [
       "<div>\n",
       "<style scoped>\n",
       "    .dataframe tbody tr th:only-of-type {\n",
       "        vertical-align: middle;\n",
       "    }\n",
       "\n",
       "    .dataframe tbody tr th {\n",
       "        vertical-align: top;\n",
       "    }\n",
       "\n",
       "    .dataframe thead th {\n",
       "        text-align: right;\n",
       "    }\n",
       "</style>\n",
       "<table border=\"1\" class=\"dataframe\">\n",
       "  <thead>\n",
       "    <tr style=\"text-align: right;\">\n",
       "      <th></th>\n",
       "      <th>City</th>\n",
       "      <th>Weather_main</th>\n",
       "      <th>Weather_description</th>\n",
       "      <th>Temprature</th>\n",
       "      <th>Feels_Like</th>\n",
       "      <th>Temp_Min</th>\n",
       "      <th>Temp_Max</th>\n",
       "      <th>Pressure</th>\n",
       "      <th>Humidity</th>\n",
       "      <th>Visibility</th>\n",
       "      <th>Wind_Speed</th>\n",
       "      <th>Timestamp</th>\n",
       "      <th>Country</th>\n",
       "      <th>Sunset</th>\n",
       "      <th>Sunrise</th>\n",
       "    </tr>\n",
       "  </thead>\n",
       "  <tbody>\n",
       "    <tr>\n",
       "      <th>0</th>\n",
       "      <td>Mumbai</td>\n",
       "      <td>Clouds</td>\n",
       "      <td>overcast clouds</td>\n",
       "      <td>26.84</td>\n",
       "      <td>29.91</td>\n",
       "      <td>26.84</td>\n",
       "      <td>26.84</td>\n",
       "      <td>1002</td>\n",
       "      <td>86</td>\n",
       "      <td>10000</td>\n",
       "      <td>7.69</td>\n",
       "      <td>1753263026</td>\n",
       "      <td>IN</td>\n",
       "      <td>1753278458</td>\n",
       "      <td>1753231332</td>\n",
       "    </tr>\n",
       "    <tr>\n",
       "      <th>1</th>\n",
       "      <td>Delhi</td>\n",
       "      <td>Clouds</td>\n",
       "      <td>overcast clouds</td>\n",
       "      <td>30.81</td>\n",
       "      <td>37.81</td>\n",
       "      <td>30.81</td>\n",
       "      <td>30.81</td>\n",
       "      <td>997</td>\n",
       "      <td>75</td>\n",
       "      <td>10000</td>\n",
       "      <td>5.11</td>\n",
       "      <td>1753262584</td>\n",
       "      <td>IN</td>\n",
       "      <td>1753278461</td>\n",
       "      <td>1753229232</td>\n",
       "    </tr>\n",
       "    <tr>\n",
       "      <th>2</th>\n",
       "      <td>Chennai</td>\n",
       "      <td>Clouds</td>\n",
       "      <td>overcast clouds</td>\n",
       "      <td>31.23</td>\n",
       "      <td>38.23</td>\n",
       "      <td>31.23</td>\n",
       "      <td>31.23</td>\n",
       "      <td>1002</td>\n",
       "      <td>76</td>\n",
       "      <td>10000</td>\n",
       "      <td>3.32</td>\n",
       "      <td>1753262638</td>\n",
       "      <td>IN</td>\n",
       "      <td>1753276101</td>\n",
       "      <td>1753230123</td>\n",
       "    </tr>\n",
       "    <tr>\n",
       "      <th>3</th>\n",
       "      <td>Bangalore</td>\n",
       "      <td>Clouds</td>\n",
       "      <td>overcast clouds</td>\n",
       "      <td>24.59</td>\n",
       "      <td>24.96</td>\n",
       "      <td>24.59</td>\n",
       "      <td>24.59</td>\n",
       "      <td>1006</td>\n",
       "      <td>71</td>\n",
       "      <td>10000</td>\n",
       "      <td>7.51</td>\n",
       "      <td>1753262700</td>\n",
       "      <td>IN</td>\n",
       "      <td>1753276732</td>\n",
       "      <td>1753230775</td>\n",
       "    </tr>\n",
       "    <tr>\n",
       "      <th>4</th>\n",
       "      <td>Kolkata</td>\n",
       "      <td>Clouds</td>\n",
       "      <td>overcast clouds</td>\n",
       "      <td>34.78</td>\n",
       "      <td>41.75</td>\n",
       "      <td>34.78</td>\n",
       "      <td>34.78</td>\n",
       "      <td>993</td>\n",
       "      <td>54</td>\n",
       "      <td>10000</td>\n",
       "      <td>2.59</td>\n",
       "      <td>1753263201</td>\n",
       "      <td>IN</td>\n",
       "      <td>1753275101</td>\n",
       "      <td>1753227239</td>\n",
       "    </tr>\n",
       "  </tbody>\n",
       "</table>\n",
       "</div>"
      ],
      "text/plain": [
       "        City Weather_main Weather_description  Temprature  Feels_Like  \\\n",
       "0     Mumbai       Clouds     overcast clouds       26.84       29.91   \n",
       "1      Delhi       Clouds     overcast clouds       30.81       37.81   \n",
       "2    Chennai       Clouds     overcast clouds       31.23       38.23   \n",
       "3  Bangalore       Clouds     overcast clouds       24.59       24.96   \n",
       "4    Kolkata       Clouds     overcast clouds       34.78       41.75   \n",
       "\n",
       "   Temp_Min  Temp_Max  Pressure  Humidity  Visibility  Wind_Speed   Timestamp  \\\n",
       "0     26.84     26.84      1002        86       10000        7.69  1753263026   \n",
       "1     30.81     30.81       997        75       10000        5.11  1753262584   \n",
       "2     31.23     31.23      1002        76       10000        3.32  1753262638   \n",
       "3     24.59     24.59      1006        71       10000        7.51  1753262700   \n",
       "4     34.78     34.78       993        54       10000        2.59  1753263201   \n",
       "\n",
       "  Country      Sunset     Sunrise  \n",
       "0      IN  1753278458  1753231332  \n",
       "1      IN  1753278461  1753229232  \n",
       "2      IN  1753276101  1753230123  \n",
       "3      IN  1753276732  1753230775  \n",
       "4      IN  1753275101  1753227239  "
      ]
     },
     "execution_count": 18,
     "metadata": {},
     "output_type": "execute_result"
    }
   ],
   "source": [
    "df.head()"
   ]
  },
  {
   "cell_type": "code",
   "execution_count": 21,
   "id": "053e0b59-93d8-4406-906f-69a2cea952e5",
   "metadata": {},
   "outputs": [
    {
     "ename": "KeyError",
     "evalue": "'weather_main'",
     "output_type": "error",
     "traceback": [
      "\u001b[31m---------------------------------------------------------------------------\u001b[39m",
      "\u001b[31mKeyError\u001b[39m                                  Traceback (most recent call last)",
      "\u001b[36mFile \u001b[39m\u001b[32m~\\AppData\\Roaming\\Python\\Python313\\site-packages\\pandas\\core\\indexes\\base.py:3812\u001b[39m, in \u001b[36mIndex.get_loc\u001b[39m\u001b[34m(self, key)\u001b[39m\n\u001b[32m   3811\u001b[39m \u001b[38;5;28;01mtry\u001b[39;00m:\n\u001b[32m-> \u001b[39m\u001b[32m3812\u001b[39m     \u001b[38;5;28;01mreturn\u001b[39;00m \u001b[38;5;28;43mself\u001b[39;49m\u001b[43m.\u001b[49m\u001b[43m_engine\u001b[49m\u001b[43m.\u001b[49m\u001b[43mget_loc\u001b[49m\u001b[43m(\u001b[49m\u001b[43mcasted_key\u001b[49m\u001b[43m)\u001b[49m\n\u001b[32m   3813\u001b[39m \u001b[38;5;28;01mexcept\u001b[39;00m \u001b[38;5;167;01mKeyError\u001b[39;00m \u001b[38;5;28;01mas\u001b[39;00m err:\n",
      "\u001b[36mFile \u001b[39m\u001b[32mpandas/_libs/index.pyx:167\u001b[39m, in \u001b[36mpandas._libs.index.IndexEngine.get_loc\u001b[39m\u001b[34m()\u001b[39m\n",
      "\u001b[36mFile \u001b[39m\u001b[32mpandas/_libs/index.pyx:196\u001b[39m, in \u001b[36mpandas._libs.index.IndexEngine.get_loc\u001b[39m\u001b[34m()\u001b[39m\n",
      "\u001b[36mFile \u001b[39m\u001b[32mpandas/_libs/hashtable_class_helper.pxi:7088\u001b[39m, in \u001b[36mpandas._libs.hashtable.PyObjectHashTable.get_item\u001b[39m\u001b[34m()\u001b[39m\n",
      "\u001b[36mFile \u001b[39m\u001b[32mpandas/_libs/hashtable_class_helper.pxi:7096\u001b[39m, in \u001b[36mpandas._libs.hashtable.PyObjectHashTable.get_item\u001b[39m\u001b[34m()\u001b[39m\n",
      "\u001b[31mKeyError\u001b[39m: 'weather_main'",
      "\nThe above exception was the direct cause of the following exception:\n",
      "\u001b[31mKeyError\u001b[39m                                  Traceback (most recent call last)",
      "\u001b[36mCell\u001b[39m\u001b[36m \u001b[39m\u001b[32mIn[21]\u001b[39m\u001b[32m, line 2\u001b[39m\n\u001b[32m      1\u001b[39m \u001b[38;5;66;03m# Example: classify weather status based on condition\u001b[39;00m\n\u001b[32m----> \u001b[39m\u001b[32m2\u001b[39m df[\u001b[33m'\u001b[39m\u001b[33mstatus\u001b[39m\u001b[33m'\u001b[39m] = \u001b[43mdf\u001b[49m\u001b[43m[\u001b[49m\u001b[33;43m'\u001b[39;49m\u001b[33;43mweather_main\u001b[39;49m\u001b[33;43m'\u001b[39;49m\u001b[43m]\u001b[49m.apply(\u001b[38;5;28;01mlambda\u001b[39;00m x: \u001b[33m'\u001b[39m\u001b[33mBad\u001b[39m\u001b[33m'\u001b[39m \u001b[38;5;28;01mif\u001b[39;00m x \u001b[38;5;129;01min\u001b[39;00m [\u001b[33m'\u001b[39m\u001b[33mRain\u001b[39m\u001b[33m'\u001b[39m, \u001b[33m'\u001b[39m\u001b[33mStorm\u001b[39m\u001b[33m'\u001b[39m] \u001b[38;5;28;01melse\u001b[39;00m \u001b[33m'\u001b[39m\u001b[33mGood\u001b[39m\u001b[33m'\u001b[39m)\n",
      "\u001b[36mFile \u001b[39m\u001b[32m~\\AppData\\Roaming\\Python\\Python313\\site-packages\\pandas\\core\\frame.py:4107\u001b[39m, in \u001b[36mDataFrame.__getitem__\u001b[39m\u001b[34m(self, key)\u001b[39m\n\u001b[32m   4105\u001b[39m \u001b[38;5;28;01mif\u001b[39;00m \u001b[38;5;28mself\u001b[39m.columns.nlevels > \u001b[32m1\u001b[39m:\n\u001b[32m   4106\u001b[39m     \u001b[38;5;28;01mreturn\u001b[39;00m \u001b[38;5;28mself\u001b[39m._getitem_multilevel(key)\n\u001b[32m-> \u001b[39m\u001b[32m4107\u001b[39m indexer = \u001b[38;5;28;43mself\u001b[39;49m\u001b[43m.\u001b[49m\u001b[43mcolumns\u001b[49m\u001b[43m.\u001b[49m\u001b[43mget_loc\u001b[49m\u001b[43m(\u001b[49m\u001b[43mkey\u001b[49m\u001b[43m)\u001b[49m\n\u001b[32m   4108\u001b[39m \u001b[38;5;28;01mif\u001b[39;00m is_integer(indexer):\n\u001b[32m   4109\u001b[39m     indexer = [indexer]\n",
      "\u001b[36mFile \u001b[39m\u001b[32m~\\AppData\\Roaming\\Python\\Python313\\site-packages\\pandas\\core\\indexes\\base.py:3819\u001b[39m, in \u001b[36mIndex.get_loc\u001b[39m\u001b[34m(self, key)\u001b[39m\n\u001b[32m   3814\u001b[39m     \u001b[38;5;28;01mif\u001b[39;00m \u001b[38;5;28misinstance\u001b[39m(casted_key, \u001b[38;5;28mslice\u001b[39m) \u001b[38;5;129;01mor\u001b[39;00m (\n\u001b[32m   3815\u001b[39m         \u001b[38;5;28misinstance\u001b[39m(casted_key, abc.Iterable)\n\u001b[32m   3816\u001b[39m         \u001b[38;5;129;01mand\u001b[39;00m \u001b[38;5;28many\u001b[39m(\u001b[38;5;28misinstance\u001b[39m(x, \u001b[38;5;28mslice\u001b[39m) \u001b[38;5;28;01mfor\u001b[39;00m x \u001b[38;5;129;01min\u001b[39;00m casted_key)\n\u001b[32m   3817\u001b[39m     ):\n\u001b[32m   3818\u001b[39m         \u001b[38;5;28;01mraise\u001b[39;00m InvalidIndexError(key)\n\u001b[32m-> \u001b[39m\u001b[32m3819\u001b[39m     \u001b[38;5;28;01mraise\u001b[39;00m \u001b[38;5;167;01mKeyError\u001b[39;00m(key) \u001b[38;5;28;01mfrom\u001b[39;00m\u001b[38;5;250m \u001b[39m\u001b[34;01merr\u001b[39;00m\n\u001b[32m   3820\u001b[39m \u001b[38;5;28;01mexcept\u001b[39;00m \u001b[38;5;167;01mTypeError\u001b[39;00m:\n\u001b[32m   3821\u001b[39m     \u001b[38;5;66;03m# If we have a listlike key, _check_indexing_error will raise\u001b[39;00m\n\u001b[32m   3822\u001b[39m     \u001b[38;5;66;03m#  InvalidIndexError. Otherwise we fall through and re-raise\u001b[39;00m\n\u001b[32m   3823\u001b[39m     \u001b[38;5;66;03m#  the TypeError.\u001b[39;00m\n\u001b[32m   3824\u001b[39m     \u001b[38;5;28mself\u001b[39m._check_indexing_error(key)\n",
      "\u001b[31mKeyError\u001b[39m: 'weather_main'"
     ]
    }
   ],
   "source": [
    "# Example: classify weather status based on condition\n",
    "df['status'] = df['weather_main'].apply(lambda x: 'Bad' if x in ['Rain', 'Storm'] else 'Good')"
   ]
  },
  {
   "cell_type": "code",
   "execution_count": 19,
   "id": "855b8285-9563-4271-b8d8-911a55a9ca63",
   "metadata": {},
   "outputs": [
    {
     "data": {
      "text/plain": [
       "(1100, 15)"
      ]
     },
     "execution_count": 19,
     "metadata": {},
     "output_type": "execute_result"
    }
   ],
   "source": [
    "df.shape"
   ]
  },
  {
   "cell_type": "code",
   "execution_count": 20,
   "id": "a6797705-aca2-4bda-9aaa-fdcea608dea8",
   "metadata": {},
   "outputs": [],
   "source": [
    "df.to_csv('weather_data.csv', index=False)"
   ]
  },
  {
   "cell_type": "code",
   "execution_count": null,
   "id": "b1ac5fa5-dc14-490d-bc6c-80e1e1c67f39",
   "metadata": {},
   "outputs": [],
   "source": []
  },
  {
   "cell_type": "code",
   "execution_count": null,
   "id": "021e6d42-3de8-41ae-a9a7-87232d9e3d38",
   "metadata": {},
   "outputs": [],
   "source": []
  },
  {
   "cell_type": "code",
   "execution_count": null,
   "id": "bfa2a9d1-1c6f-45b5-a1c1-c26033c284b1",
   "metadata": {},
   "outputs": [],
   "source": []
  },
  {
   "cell_type": "code",
   "execution_count": null,
   "id": "c0506c16-61a4-4318-bd66-94603e10429e",
   "metadata": {},
   "outputs": [],
   "source": []
  },
  {
   "cell_type": "code",
   "execution_count": null,
   "id": "efd8171f-c35a-419e-b022-b30091847063",
   "metadata": {},
   "outputs": [],
   "source": []
  },
  {
   "cell_type": "code",
   "execution_count": null,
   "id": "007324a5-a9b6-4950-82f1-493879b039c7",
   "metadata": {},
   "outputs": [],
   "source": []
  },
  {
   "cell_type": "code",
   "execution_count": null,
   "id": "76f84bdc-7dd1-4f15-8a99-854909dd6bd1",
   "metadata": {},
   "outputs": [],
   "source": []
  },
  {
   "cell_type": "code",
   "execution_count": null,
   "id": "43270c42-88db-468e-bbe7-a39f51f44d89",
   "metadata": {},
   "outputs": [],
   "source": []
  },
  {
   "cell_type": "code",
   "execution_count": null,
   "id": "edae46fb-dce6-4810-9836-1ec0a0de4ccc",
   "metadata": {},
   "outputs": [],
   "source": []
  },
  {
   "cell_type": "code",
   "execution_count": null,
   "id": "d69928e5-e92f-45ce-b9d6-4bab1110a045",
   "metadata": {},
   "outputs": [],
   "source": []
  },
  {
   "cell_type": "code",
   "execution_count": null,
   "id": "501073b7-c5a3-4c6f-813b-3807883b5fd7",
   "metadata": {},
   "outputs": [],
   "source": []
  },
  {
   "cell_type": "code",
   "execution_count": null,
   "id": "741b0b63-11ce-467f-b425-3b032e76b2b8",
   "metadata": {},
   "outputs": [],
   "source": []
  },
  {
   "cell_type": "code",
   "execution_count": null,
   "id": "0540cb6d-cdd2-48c9-82f1-256f20e54484",
   "metadata": {},
   "outputs": [],
   "source": []
  },
  {
   "cell_type": "code",
   "execution_count": null,
   "id": "2bfaed06-9329-4e32-b50a-c710ecf7546d",
   "metadata": {},
   "outputs": [],
   "source": []
  },
  {
   "cell_type": "code",
   "execution_count": null,
   "id": "9416ffde-0a1c-4b61-8236-9a6deb4690b1",
   "metadata": {},
   "outputs": [],
   "source": []
  },
  {
   "cell_type": "code",
   "execution_count": null,
   "id": "62c04cf3-2817-45e9-b4d1-c0d6bc3b34c9",
   "metadata": {},
   "outputs": [],
   "source": []
  },
  {
   "cell_type": "code",
   "execution_count": null,
   "id": "a8b043a1-e053-4122-a2ad-30ced5959948",
   "metadata": {},
   "outputs": [],
   "source": []
  },
  {
   "cell_type": "code",
   "execution_count": null,
   "id": "86726c5d-dc47-42a3-9f76-dbc17d1555dd",
   "metadata": {},
   "outputs": [],
   "source": []
  },
  {
   "cell_type": "code",
   "execution_count": null,
   "id": "e71077eb-8eac-4e1f-87a0-c5005a2170c3",
   "metadata": {},
   "outputs": [],
   "source": []
  },
  {
   "cell_type": "code",
   "execution_count": null,
   "id": "a4e71b8a-278c-45f6-9ab9-6cfd43a2b71e",
   "metadata": {},
   "outputs": [],
   "source": []
  },
  {
   "cell_type": "code",
   "execution_count": null,
   "id": "c9e4655c-112d-4f47-ac3a-2d50a679564b",
   "metadata": {},
   "outputs": [],
   "source": []
  },
  {
   "cell_type": "code",
   "execution_count": null,
   "id": "9fed44a1-3312-4228-95cb-c6f37fe1953b",
   "metadata": {},
   "outputs": [],
   "source": []
  },
  {
   "cell_type": "code",
   "execution_count": null,
   "id": "d9e1a10f-7724-4ffa-89b8-518ab4864b36",
   "metadata": {},
   "outputs": [],
   "source": []
  },
  {
   "cell_type": "code",
   "execution_count": null,
   "id": "e16d7f1b-c391-4ed3-b3ce-6300b79d0b7a",
   "metadata": {},
   "outputs": [],
   "source": []
  },
  {
   "cell_type": "code",
   "execution_count": null,
   "id": "19ee2555-8ded-4dcc-b51a-6c75a77ece50",
   "metadata": {},
   "outputs": [],
   "source": []
  },
  {
   "cell_type": "code",
   "execution_count": null,
   "id": "95d9744b-0821-479b-9c95-0c7914728548",
   "metadata": {},
   "outputs": [],
   "source": []
  },
  {
   "cell_type": "code",
   "execution_count": null,
   "id": "672d4146-b4bc-493c-bc6f-8e6ca9fceb91",
   "metadata": {},
   "outputs": [],
   "source": []
  },
  {
   "cell_type": "code",
   "execution_count": null,
   "id": "77bb307a-383a-45eb-9c78-142e7c893ec7",
   "metadata": {},
   "outputs": [],
   "source": []
  },
  {
   "cell_type": "code",
   "execution_count": null,
   "id": "c73540c8-5311-4e04-8474-e2edf29822bd",
   "metadata": {},
   "outputs": [],
   "source": []
  },
  {
   "cell_type": "code",
   "execution_count": null,
   "id": "90fc5417-4e0b-4fe8-97d7-0607feb8930e",
   "metadata": {},
   "outputs": [],
   "source": []
  },
  {
   "cell_type": "code",
   "execution_count": null,
   "id": "f175e3b8-00b3-4c0b-a225-e66a35dbe190",
   "metadata": {},
   "outputs": [],
   "source": []
  },
  {
   "cell_type": "code",
   "execution_count": null,
   "id": "cfffdfba-39ad-426c-a23c-c70c9a4150d8",
   "metadata": {},
   "outputs": [],
   "source": []
  },
  {
   "cell_type": "code",
   "execution_count": null,
   "id": "af989f70-d7c3-4e40-b3dd-075a78132c5c",
   "metadata": {},
   "outputs": [],
   "source": []
  },
  {
   "cell_type": "code",
   "execution_count": null,
   "id": "3bc787ea-b98e-4458-aa99-0a4717e393ca",
   "metadata": {},
   "outputs": [],
   "source": []
  },
  {
   "cell_type": "code",
   "execution_count": null,
   "id": "611558a3-141b-401b-bac9-181467de5127",
   "metadata": {},
   "outputs": [],
   "source": []
  },
  {
   "cell_type": "code",
   "execution_count": null,
   "id": "572d6a91-2ee5-4dd6-8809-3691bf8c203d",
   "metadata": {},
   "outputs": [],
   "source": []
  },
  {
   "cell_type": "code",
   "execution_count": null,
   "id": "57efe0f6-5fd4-4afa-bb49-ba9bfc1a9440",
   "metadata": {},
   "outputs": [],
   "source": []
  },
  {
   "cell_type": "code",
   "execution_count": null,
   "id": "a0e14da5-5484-451b-b0ab-36ca47ddd28c",
   "metadata": {},
   "outputs": [],
   "source": []
  },
  {
   "cell_type": "code",
   "execution_count": null,
   "id": "05fc4bfb-0eea-450d-a0c0-0acab16adda2",
   "metadata": {},
   "outputs": [],
   "source": []
  },
  {
   "cell_type": "code",
   "execution_count": null,
   "id": "572c2d97-76c7-4618-8dd0-628b04f2f868",
   "metadata": {},
   "outputs": [],
   "source": []
  },
  {
   "cell_type": "code",
   "execution_count": null,
   "id": "8316f66f-c571-486b-b335-95651268c849",
   "metadata": {},
   "outputs": [],
   "source": []
  },
  {
   "cell_type": "code",
   "execution_count": null,
   "id": "7d8a0a70-f57d-434f-95ba-0ceaa640de22",
   "metadata": {},
   "outputs": [],
   "source": []
  },
  {
   "cell_type": "code",
   "execution_count": null,
   "id": "71880a15-f64f-47d3-989a-c92469df2533",
   "metadata": {},
   "outputs": [],
   "source": []
  },
  {
   "cell_type": "code",
   "execution_count": null,
   "id": "0e6b550a-cf52-42ba-99a0-f195ec9ab0d6",
   "metadata": {},
   "outputs": [],
   "source": []
  },
  {
   "cell_type": "code",
   "execution_count": null,
   "id": "277abad1-62f1-468e-af54-d8653ae62397",
   "metadata": {},
   "outputs": [],
   "source": []
  },
  {
   "cell_type": "code",
   "execution_count": null,
   "id": "6ec5c1dc-d812-4f18-bcb5-9cf6ab192fb1",
   "metadata": {},
   "outputs": [],
   "source": []
  },
  {
   "cell_type": "code",
   "execution_count": null,
   "id": "e0f62912-71b9-4ef3-b079-cf752fcd3e42",
   "metadata": {},
   "outputs": [],
   "source": []
  },
  {
   "cell_type": "code",
   "execution_count": null,
   "id": "fdc651d0-e702-462d-8043-cca326ae8e28",
   "metadata": {},
   "outputs": [],
   "source": []
  },
  {
   "cell_type": "code",
   "execution_count": null,
   "id": "8e64397f-fd74-471b-92cf-be3996119ba3",
   "metadata": {},
   "outputs": [],
   "source": []
  },
  {
   "cell_type": "code",
   "execution_count": null,
   "id": "2bc9074b-57a1-47f5-bdeb-7f3f664df509",
   "metadata": {},
   "outputs": [],
   "source": []
  }
 ],
 "metadata": {
  "kernelspec": {
   "display_name": "Python 3 (ipykernel)",
   "language": "python",
   "name": "python3"
  },
  "language_info": {
   "codemirror_mode": {
    "name": "ipython",
    "version": 3
   },
   "file_extension": ".py",
   "mimetype": "text/x-python",
   "name": "python",
   "nbconvert_exporter": "python",
   "pygments_lexer": "ipython3",
   "version": "3.13.5"
  }
 },
 "nbformat": 4,
 "nbformat_minor": 5
}
